{
 "cells": [
  {
   "cell_type": "markdown",
   "id": "9f6fd124",
   "metadata": {},
   "source": [
    "# Delfin"
   ]
  },
  {
   "cell_type": "markdown",
   "id": "3959ff60",
   "metadata": {},
   "source": [
    "### Installation\n",
    "Run the following cell to install osiris-sdk."
   ]
  },
  {
   "cell_type": "code",
   "execution_count": null,
   "id": "eebaebd7",
   "metadata": {},
   "outputs": [],
   "source": [
    "!pip install osiris-sdk"
   ]
  },
  {
   "cell_type": "markdown",
   "id": "efc1130a",
   "metadata": {},
   "source": [
    "### Config file\n",
    "he configuration is advised to be done in a file.\n",
    "\n",
    "The structure of **conf.ini**:\n",
    "```\n",
    "[Authorization]\n",
    "tenant_id = <tenant_id>\n",
    "client_id = <client_id>\n",
    "client_secret = <client_secret>\n",
    "\n",
    "[Egress]\n",
    "url = <egress-url>\n",
    "```"
   ]
  },
  {
   "cell_type": "markdown",
   "id": "e8f6287f",
   "metadata": {},
   "source": [
    "### Imports\n",
    "Execute the following cell to import the necessary libraries"
   ]
  },
  {
   "cell_type": "code",
   "execution_count": null,
   "id": "805fa970",
   "metadata": {},
   "outputs": [],
   "source": [
    "from osiris.apis.egress import Egress\n",
    "from osiris.core.azure_client_authorization import ClientAuthorization\n",
    "from osiris.core.enums import Horizon\n",
    "from configparser import ConfigParser"
   ]
  },
  {
   "cell_type": "markdown",
   "id": "80362899",
   "metadata": {},
   "source": [
    "### Initialize the Egress class"
   ]
  },
  {
   "cell_type": "code",
   "execution_count": null,
   "id": "8b633f71",
   "metadata": {},
   "outputs": [],
   "source": [
    "config = ConfigParser()\n",
    "config.read('conf.ini')\n",
    "\n",
    "client_auth = ClientAuthorization(tenant_id=config['Authorization']['tenant_id'],\n",
    "                                  client_id=config['Authorization']['client_id'],\n",
    "                                  client_secret=config['Authorization']['client_secret'])\n",
    "\n",
    "egress = Egress(client_auth=client_auth,\n",
    "                egress_url=config['Egress']['url'])"
   ]
  },
  {
   "cell_type": "markdown",
   "id": "ddf9984a",
   "metadata": {},
   "source": [
    "### Delfin Daily\n",
    "The data retrived will be **from_date <= data < to_date**."
   ]
  },
  {
   "cell_type": "code",
   "execution_count": null,
   "id": "4e5914f5",
   "metadata": {},
   "outputs": [],
   "source": [
    "json_content = egress.download_delfin_file(horizon=Horizon.MINUTELY, \n",
    "                                           from_date=\"2021-07-15T20:00\", \n",
    "                                           to_date=\"2021-07-16T00:00\")"
   ]
  },
  {
   "cell_type": "code",
   "execution_count": null,
   "id": "8480a9e8",
   "metadata": {},
   "outputs": [],
   "source": [
    "json_content = egress.download_delfin_file(horizon=Horizon.DAILY, \n",
    "                                           from_date=\"2020-01\", \n",
    "                                           to_date=\"2020-02\")\n",
    "\n",
    "# We only show the first entry here\n",
    "json_content[0]"
   ]
  },
  {
   "cell_type": "markdown",
   "id": "1758c459",
   "metadata": {},
   "source": [
    "### Delfin Hourly"
   ]
  },
  {
   "cell_type": "code",
   "execution_count": null,
   "id": "752d93bd",
   "metadata": {},
   "outputs": [],
   "source": [
    "json_content = egress.download_delfin_file(horizon=Horizon.HOURLY, \n",
    "                                           from_date=\"2020-01-01T00\", \n",
    "                                           to_date=\"2020-01-01T06\")\n",
    "\n",
    "# We only show the first entry here\n",
    "json_content[0]"
   ]
  },
  {
   "cell_type": "markdown",
   "id": "8d87518d",
   "metadata": {},
   "source": [
    "### Delfin Minutely"
   ]
  },
  {
   "cell_type": "code",
   "execution_count": null,
   "id": "e40cc345",
   "metadata": {},
   "outputs": [],
   "source": [
    "json_content = egress.download_delfin_file(horizon=Horizon.MINUTELY, \n",
    "                                           from_date=\"2021-07-15T00:00\", \n",
    "                                           to_date=\"2021-07-15T00:59\")\n",
    "\n",
    "# We only show the first entry here\n",
    "json_content[0]"
   ]
  },
  {
   "cell_type": "markdown",
   "id": "a880d050",
   "metadata": {},
   "source": [
    "### Delfin Daily with Indices"
   ]
  },
  {
   "cell_type": "code",
   "execution_count": null,
   "id": "1a472a6a",
   "metadata": {},
   "outputs": [],
   "source": [
    "json_content = egress.download_delfin_file(horizon=Horizon.DAILY, \n",
    "                                           from_date=\"2020-01-15T03:00\", \n",
    "                                           to_date=\"2020-01-16T03:01\",\n",
    "                                           table_indices=[1, 2])\n",
    "\n",
    "# We only show the first entry here\n",
    "json_content[0]"
   ]
  },
  {
   "cell_type": "code",
   "execution_count": null,
   "id": "5e5061c6",
   "metadata": {},
   "outputs": [],
   "source": []
  }
 ],
 "metadata": {
  "kernelspec": {
   "display_name": "Python 3",
   "language": "python",
   "name": "python3"
  },
  "language_info": {
   "codemirror_mode": {
    "name": "ipython",
    "version": 3
   },
   "file_extension": ".py",
   "mimetype": "text/x-python",
   "name": "python",
   "nbconvert_exporter": "python",
   "pygments_lexer": "ipython3",
   "version": "3.8.8"
  }
 },
 "nbformat": 4,
 "nbformat_minor": 5
}
