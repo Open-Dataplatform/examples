{
 "cells": [
  {
   "cell_type": "markdown",
   "id": "9f6fd124",
   "metadata": {},
   "source": [
    "# Delfin"
   ]
  },
  {
   "cell_type": "markdown",
   "id": "3959ff60",
   "metadata": {},
   "source": [
    "### Installation\n",
    "Run the following cell to install osiris-sdk."
   ]
  },
  {
   "cell_type": "code",
   "execution_count": null,
   "id": "eebaebd7",
   "metadata": {},
   "outputs": [],
   "source": [
    "!pip install osiris-sdk --upgrade"
   ]
  },
  {
   "cell_type": "markdown",
   "id": "6b185236",
   "metadata": {},
   "source": [
    "### Access to dataset\n",
    "There are two ways to get access to a dataset\n",
    "1. Service Principle\n",
    "2. Access Token\n",
    "\n",
    "\n",
    "#### Config file with Service Principle\n",
    "If done with **Service Principle** it is adviced to add the following file with **tenant_id**, **client_id**, and **client_secret**:\n",
    "\n",
    "The structure of **conf.ini**:\n",
    "```\n",
    "[Authorization]\n",
    "tenant_id = <tenant_id>\n",
    "client_id = <client_id>\n",
    "client_secret = <client_secret>\n",
    "\n",
    "[Egress]\n",
    "url = <egress-url>\n",
    "```\n",
    "\n",
    "#### Config file if using Access Token\n",
    "If done with **Access Token** then assign it to a variable (see example below).\n",
    "\n",
    "The structure of **conf.ini**:\n",
    "```\n",
    "[Egress]\n",
    "url = <egress-url>\n",
    "```\n",
    "\n",
    "The egress-url can be [found here](https://github.com/Open-Dataplatform/examples/blob/main/README.md)."
   ]
  },
  {
   "cell_type": "markdown",
   "id": "e8f6287f",
   "metadata": {},
   "source": [
    "### Imports\n",
    "Execute the following cell to import the necessary libraries"
   ]
  },
  {
   "cell_type": "code",
   "execution_count": 11,
   "id": "805fa970",
   "metadata": {},
   "outputs": [],
   "source": [
    "from osiris.apis.egress import Egress\n",
    "from osiris.core.azure_client_authorization import ClientAuthorization\n",
    "from osiris.core.enums import Horizon\n",
    "from configparser import ConfigParser"
   ]
  },
  {
   "cell_type": "markdown",
   "id": "80362899",
   "metadata": {},
   "source": [
    "### Initialize the Egress class with Service Principle"
   ]
  },
  {
   "cell_type": "code",
   "execution_count": null,
   "id": "8b633f71",
   "metadata": {},
   "outputs": [],
   "source": [
    "config = ConfigParser()\n",
    "config.read('conf.ini')\n",
    "\n",
    "client_auth = ClientAuthorization(tenant_id=config['Authorization']['tenant_id'],\n",
    "                                  client_id=config['Authorization']['client_id'],\n",
    "                                  client_secret=config['Authorization']['client_secret'])\n",
    "\n",
    "egress = Egress(client_auth=client_auth,\n",
    "                egress_url=config['Egress']['url'])"
   ]
  },
  {
   "cell_type": "markdown",
   "id": "4ec44f9b",
   "metadata": {},
   "source": [
    "### Intialize the Egress class with Access Token"
   ]
  },
  {
   "cell_type": "code",
   "execution_count": 12,
   "id": "185c0310",
   "metadata": {},
   "outputs": [],
   "source": [
    "config = ConfigParser()\n",
    "config.read('conf.ini')\n",
    "\n",
    "access_token = 'REPLACE WITH ACCESS TOKEN HERE'\n",
    "\n",
    "client_auth = ClientAuthorization(access_token=access_token)\n",
    "\n",
    "egress = Egress(client_auth=client_auth,\n",
    "                egress_url=config['Egress']['url'])"
   ]
  },
  {
   "cell_type": "markdown",
   "id": "ddf9984a",
   "metadata": {},
   "source": [
    "### Delfin 1 Day Resolution\n",
    "The data retrived will be **from_date <= data < to_date**.\n",
    "\n",
    "The **from_date** and **to_date** syntax is [described here](https://github.com/Open-Dataplatform/examples/blob/main/README.md)."
   ]
  },
  {
   "cell_type": "code",
   "execution_count": null,
   "id": "8480a9e8",
   "metadata": {},
   "outputs": [],
   "source": [
    "json_content = egress.download_delfin_file(horizon=Horizon.DAILY, \n",
    "                                           from_date=\"2020-01\", \n",
    "                                           to_date=\"2020-02\")\n",
    "\n",
    "# We only show the first entry here\n",
    "json_content[0]"
   ]
  },
  {
   "cell_type": "markdown",
   "id": "1758c459",
   "metadata": {},
   "source": [
    "### Delfin 1 Hour Resolution\n",
    "The **from_date** and **to_date** syntax is [described here](https://github.com/Open-Dataplatform/examples/blob/main/README.md)."
   ]
  },
  {
   "cell_type": "code",
   "execution_count": null,
   "id": "752d93bd",
   "metadata": {},
   "outputs": [],
   "source": [
    "json_content = egress.download_delfin_file(horizon=Horizon.HOURLY, \n",
    "                                           from_date=\"2020-01-01T00\", \n",
    "                                           to_date=\"2020-01-01T06\")\n",
    "\n",
    "# We only show the first entry here\n",
    "json_content[0]"
   ]
  },
  {
   "cell_type": "markdown",
   "id": "8d87518d",
   "metadata": {},
   "source": [
    "### Delfin 1 Minute Resolution\n",
    "The **from_date** and **to_date** syntax is [described here](https://github.com/Open-Dataplatform/examples/blob/main/README.md)."
   ]
  },
  {
   "cell_type": "code",
   "execution_count": null,
   "id": "e40cc345",
   "metadata": {},
   "outputs": [],
   "source": [
    "json_content = egress.download_delfin_file(horizon=Horizon.MINUTELY, \n",
    "                                           from_date=\"2021-07-15T00:00\", \n",
    "                                           to_date=\"2021-07-15T00:05\")\n",
    "\n",
    "# We only show the first entry here\n",
    "json_content[0]"
   ]
  },
  {
   "cell_type": "markdown",
   "id": "a880d050",
   "metadata": {},
   "source": [
    "### Delfin Daily with Indices\n",
    "The **from_date** and **to_date** syntax is [described here](https://github.com/Open-Dataplatform/examples/blob/main/README.md)."
   ]
  },
  {
   "cell_type": "code",
   "execution_count": null,
   "id": "1a472a6a",
   "metadata": {},
   "outputs": [],
   "source": [
    "json_content = egress.download_delfin_file(horizon=Horizon.DAILY, \n",
    "                                           from_date=\"2020-01-15T03:00\", \n",
    "                                           to_date=\"2020-01-16T03:01\",\n",
    "                                           table_indices=[1, 2])\n",
    "\n",
    "# We only show the first entry here\n",
    "json_content[0]"
   ]
  }
 ],
 "metadata": {
  "kernelspec": {
   "display_name": "Python 3 (ipykernel)",
   "language": "python",
   "name": "python3"
  },
  "language_info": {
   "codemirror_mode": {
    "name": "ipython",
    "version": 3
   },
   "file_extension": ".py",
   "mimetype": "text/x-python",
   "name": "python",
   "nbconvert_exporter": "python",
   "pygments_lexer": "ipython3",
   "version": "3.8.12"
  }
 },
 "nbformat": 4,
 "nbformat_minor": 5
}
