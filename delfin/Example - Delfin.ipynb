{
 "cells": [
  {
   "cell_type": "markdown",
   "id": "be91f83c",
   "metadata": {},
   "source": [
    "# Delfin"
   ]
  },
  {
   "cell_type": "markdown",
   "id": "874cd817",
   "metadata": {},
   "source": [
    "### Installation\n",
    "Run the following cell to install osiris-sdk."
   ]
  },
  {
   "cell_type": "code",
   "execution_count": null,
   "id": "b5c84bae",
   "metadata": {},
   "outputs": [],
   "source": [
    "!pip install osiris-sdk"
   ]
  },
  {
   "cell_type": "markdown",
   "id": "9d7e9ca1",
   "metadata": {},
   "source": [
    "### Config file\n",
    "he configuration is advised to be done in a file.\n",
    "\n",
    "The structure of **conf.ini**:\n",
    "```\n",
    "[Authorization]\n",
    "tenant_id = <tenant_id>\n",
    "client_id = <client_id>\n",
    "client_secret = <client_secret>\n",
    "\n",
    "[Egress]\n",
    "url = <egress-url>\n",
    "```"
   ]
  },
  {
   "cell_type": "markdown",
   "id": "e12fd789",
   "metadata": {},
   "source": [
    "### Imports\n",
    "Execute the following cell to import the necessary libraries"
   ]
  },
  {
   "cell_type": "code",
   "execution_count": 1,
   "id": "d2c152f9",
   "metadata": {},
   "outputs": [],
   "source": [
    "from osiris.apis.egress import Egress\n",
    "from osiris.core.azure_client_authorization import ClientAuthorization\n",
    "from osiris.core.enums import Horizon\n",
    "from configparser import ConfigParser"
   ]
  },
  {
   "cell_type": "markdown",
   "id": "d6532438",
   "metadata": {},
   "source": [
    "### Initialize the Egress class"
   ]
  },
  {
   "cell_type": "code",
   "execution_count": 2,
   "id": "a9068d06",
   "metadata": {},
   "outputs": [],
   "source": [
    "config = ConfigParser()\n",
    "config.read('conf.ini')\n",
    "\n",
    "client_auth = ClientAuthorization(tenant_id=config['Authorization']['tenant_id'],\n",
    "                                  client_id=config['Authorization']['client_id'],\n",
    "                                  client_secret=config['Authorization']['client_secret'])\n",
    "\n",
    "egress = Egress(client_auth=client_auth,\n",
    "                egress_url=config['Egress']['url'])"
   ]
  },
  {
   "cell_type": "markdown",
   "id": "055b6a06",
   "metadata": {},
   "source": [
    "### Delfin Daily\n",
    "The data retrived will be **from_date <= data < to_date**."
   ]
  },
  {
   "cell_type": "code",
   "execution_count": 3,
   "id": "687e868d",
   "metadata": {},
   "outputs": [
    {
     "data": {
      "text/plain": [
       "{'HIST_TIMESTAMP': '2020-01-01T23:00:00',\n",
       " 'TABLE_INDEX': 2,\n",
       " 'MRID': 'e82a9046-380b-4f40-a30a-51517f4cd14c',\n",
       " 'HIS_ACTIVE_KEY': 1,\n",
       " 'SUBSTATION': 'ASR',\n",
       " 'DEVICE': 'ZL2',\n",
       " 'DEVICE_TYPE': 'CZL2',\n",
       " 'ID': 'BT',\n",
       " 'VALUE': 32513.58,\n",
       " 'GOOD': 1,\n",
       " 'REPLACED': 0,\n",
       " '_dp_datetime_utc': 1577919600000}"
      ]
     },
     "execution_count": 3,
     "metadata": {},
     "output_type": "execute_result"
    }
   ],
   "source": [
    "json_content = egress.download_delfin_file(horizon=Horizon.DAILY, \n",
    "                                           from_date=\"2020-01\", \n",
    "                                           to_date=\"2020-02\")\n",
    "\n",
    "# We only show the first entry here\n",
    "json_content[0]"
   ]
  },
  {
   "cell_type": "markdown",
   "id": "e892401a",
   "metadata": {},
   "source": [
    "### Delfin Hourly"
   ]
  },
  {
   "cell_type": "code",
   "execution_count": 4,
   "id": "4784ff65",
   "metadata": {},
   "outputs": [
    {
     "data": {
      "text/plain": [
       "{'HIST_TIMESTAMP': '2020-01-01T00:00:00',\n",
       " 'TABLE_INDEX': 346,\n",
       " 'MRID': '1cc460a8-9543-4084-ba0f-73ec33f4808d',\n",
       " 'HIS_ACTIVE_KEY': 1,\n",
       " 'SUBSTATION': 'AHA',\n",
       " 'DEVICE': 'A30',\n",
       " 'DEVICE_TYPE': 'HWTG',\n",
       " 'ID': 'KQ',\n",
       " 'AVG_VALUE': -150.66,\n",
       " 'GOOD': 1,\n",
       " 'REPLACED': 0,\n",
       " '_dp_datetime_utc': 1577836800000}"
      ]
     },
     "execution_count": 4,
     "metadata": {},
     "output_type": "execute_result"
    }
   ],
   "source": [
    "json_content = egress.download_delfin_file(horizon=Horizon.HOURLY, \n",
    "                                           from_date=\"2020-01-01T00\", \n",
    "                                           to_date=\"2020-01-01T06\")\n",
    "\n",
    "# We only show the first entry here\n",
    "json_content[0]"
   ]
  },
  {
   "cell_type": "markdown",
   "id": "c40589f8",
   "metadata": {},
   "source": [
    "### Delfin Minutely"
   ]
  },
  {
   "cell_type": "code",
   "execution_count": 5,
   "id": "c62c1cae",
   "metadata": {},
   "outputs": [
    {
     "data": {
      "text/plain": [
       "{'HIST_TIMESTAMP': '2021-07-15T00:00:00',\n",
       " 'TABLE_INDEX': 4,\n",
       " 'MRID': '312fa008-acfd-43a7-85d7-af27ec00ee43',\n",
       " 'HIS_ACTIVE_KEY': 1,\n",
       " 'SUBSTATION': 'ABO',\n",
       " 'DEVICE': 'DRØS1',\n",
       " 'DEVICE_TYPE': 'KVIND1',\n",
       " 'ID': 'MP',\n",
       " 'VALUE': 0.0,\n",
       " 'GOOD': 1,\n",
       " 'REPLACED': 0,\n",
       " '_dp_datetime_utc': 1626307200000}"
      ]
     },
     "execution_count": 5,
     "metadata": {},
     "output_type": "execute_result"
    }
   ],
   "source": [
    "json_content = egress.download_delfin_file(horizon=Horizon.MINUTELY, \n",
    "                                           from_date=\"2021-07-15T00:00\", \n",
    "                                           to_date=\"2021-07-15T00:59\")\n",
    "\n",
    "# We only show the first entry here\n",
    "json_content[0]"
   ]
  },
  {
   "cell_type": "markdown",
   "id": "96dd9f2a",
   "metadata": {},
   "source": [
    "### Delfin Daily with Indices"
   ]
  },
  {
   "cell_type": "code",
   "execution_count": 6,
   "id": "758caa2d",
   "metadata": {},
   "outputs": [
    {
     "data": {
      "text/plain": [
       "{'HIST_TIMESTAMP': '2020-01-15T23:00:00',\n",
       " 'TABLE_INDEX': 2,\n",
       " 'MRID': 'e82a9046-380b-4f40-a30a-51517f4cd14c',\n",
       " 'HIS_ACTIVE_KEY': 1,\n",
       " 'SUBSTATION': 'ASR',\n",
       " 'DEVICE': 'ZL2',\n",
       " 'DEVICE_TYPE': 'CZL2',\n",
       " 'ID': 'BT',\n",
       " 'VALUE': 32854.473,\n",
       " 'GOOD': 1,\n",
       " 'REPLACED': 0,\n",
       " '_dp_datetime_utc': 1579129200000}"
      ]
     },
     "execution_count": 6,
     "metadata": {},
     "output_type": "execute_result"
    }
   ],
   "source": [
    "json_content = egress.download_delfin_file(horizon=Horizon.DAILY, \n",
    "                                           from_date=\"2020-01-15T03:00\", \n",
    "                                           to_date=\"2020-01-16T03:01\",\n",
    "                                           table_indices=[1, 2])\n",
    "\n",
    "# We only show the first entry here\n",
    "json_content[0]"
   ]
  },
  {
   "cell_type": "code",
   "execution_count": null,
   "id": "8409a528",
   "metadata": {},
   "outputs": [],
   "source": []
  }
 ],
 "metadata": {
  "kernelspec": {
   "display_name": "Python 3",
   "language": "python",
   "name": "python3"
  },
  "language_info": {
   "codemirror_mode": {
    "name": "ipython",
    "version": 3
   },
   "file_extension": ".py",
   "mimetype": "text/x-python",
   "name": "python",
   "nbconvert_exporter": "python",
   "pygments_lexer": "ipython3",
   "version": "3.8.8"
  }
 },
 "nbformat": 4,
 "nbformat_minor": 5
}
