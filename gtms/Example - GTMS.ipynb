{
 "cells": [
  {
   "cell_type": "markdown",
   "id": "09693d97",
   "metadata": {},
   "source": [
    "# GTMS"
   ]
  },
  {
   "cell_type": "markdown",
   "id": "556fe3a2",
   "metadata": {},
   "source": [
    "### Installation\n",
    "Run the following cell to install osiris-sdk."
   ]
  },
  {
   "cell_type": "code",
   "execution_count": null,
   "id": "9ba147b2",
   "metadata": {},
   "outputs": [],
   "source": [
    "!pip install osiris-sdk --upgrade"
   ]
  },
  {
   "cell_type": "markdown",
   "id": "eec22315",
   "metadata": {},
   "source": [
    "### Access to dataset\n",
    "There are two ways to get access to a dataset\n",
    "1. Service Principle\n",
    "2. Access Token\n",
    "\n",
    "\n",
    "#### Config file with Service Principle\n",
    "If done with **Service Principle** it is adviced to add the following file with **tenant_id**, **client_id**, and **client_secret**:\n",
    "\n",
    "The structure of **conf.ini**:\n",
    "```\n",
    "[Authorization]\n",
    "tenant_id = <tenant_id>\n",
    "client_id = <client_id>\n",
    "client_secret = <client_secret>\n",
    "\n",
    "[Egress]\n",
    "url = <egress-url>\n",
    "guid = <guid>\n",
    "```\n",
    "\n",
    "#### Config file if using Access Token\n",
    "If done with **Access Token** then assign it to a variable (see example below).\n",
    "\n",
    "The structure of **conf.ini**:\n",
    "```\n",
    "[Egress]\n",
    "url = <egress-url>\n",
    "guid = <guid>\n",
    "```"
   ]
  },
  {
   "cell_type": "markdown",
   "id": "c39481df",
   "metadata": {},
   "source": [
    "### Import libraries"
   ]
  },
  {
   "cell_type": "code",
   "execution_count": null,
   "id": "2e0dd593",
   "metadata": {},
   "outputs": [],
   "source": [
    "from osiris.apis.egress import Egress\n",
    "from osiris.core.azure_client_authorization import ClientAuthorization\n",
    "from configparser import ConfigParser"
   ]
  },
  {
   "cell_type": "markdown",
   "id": "9ac9c742",
   "metadata": {},
   "source": [
    "### Initialize Egress class with Service Principle"
   ]
  },
  {
   "cell_type": "code",
   "execution_count": null,
   "id": "1f44a246",
   "metadata": {},
   "outputs": [],
   "source": [
    "config = ConfigParser()\n",
    "config.read('conf.ini')\n",
    "\n",
    "client_auth = ClientAuthorization(tenant_id=config['Authorization']['tenant_id'],\n",
    "                                  client_id=config['Authorization']['client_id'],\n",
    "                                  client_secret=config['Authorization']['client_secret'])\n",
    "\n",
    "egress = Egress(client_auth=client_auth,\n",
    "                egress_url=config['Egress']['url'],\n",
    "                dataset_guid=config['Egress']['guid'])"
   ]
  },
  {
   "cell_type": "markdown",
   "id": "015a008d",
   "metadata": {},
   "source": [
    "### Initialize Egress class with Access Token"
   ]
  },
  {
   "cell_type": "code",
   "execution_count": null,
   "id": "7696f3a5",
   "metadata": {},
   "outputs": [],
   "source": [
    "config = ConfigParser()\n",
    "config.read('conf.ini')\n",
    "\n",
    "access_token = 'REPLACE WITH ACCESS TOKEN HERE'\n",
    "\n",
    "client_auth = ClientAuthorization(access_token=access_token)\n",
    "\n",
    "egress = Egress(client_auth=client_auth,\n",
    "                egress_url=config['Egress']['url'],\n",
    "                dataset_guid=config['Egress']['guid'])"
   ]
  },
  {
   "cell_type": "markdown",
   "id": "9c5f886b",
   "metadata": {},
   "source": [
    "### GTMS date range"
   ]
  },
  {
   "cell_type": "code",
   "execution_count": null,
   "id": "0615e9d0",
   "metadata": {},
   "outputs": [],
   "source": [
    "json_response = egress.download_json_file(from_date='2019-02', \n",
    "                                          to_date='2019-03')\n",
    "\n",
    "# We only show the first entry here\n",
    "json_response[0]"
   ]
  },
  {
   "cell_type": "markdown",
   "id": "649b08c2",
   "metadata": {},
   "source": [
    "### GTMS full dataset"
   ]
  },
  {
   "cell_type": "code",
   "execution_count": null,
   "id": "304ff07b",
   "metadata": {},
   "outputs": [],
   "source": [
    "json_response = egress.download_json_file()\n",
    "\n",
    "# We only show the first entry here\n",
    "json_response[0]"
   ]
  },
  {
   "cell_type": "markdown",
   "id": "7e10b70b",
   "metadata": {},
   "source": [
    "### GTMS data to CSV\n",
    "- In this example we will guide you through how to get data from a GTMS source and save it as CSV.\n",
    "\n",
    "#### Guide\n",
    "- Step 1: Find the dataset you need.\n",
    "    - Find it in the [data catalogue](https://dataplatform.energinet.dk/login)\n",
    "    - Search for the dataset you need and select it (example: GTMS alloc):\n",
    "    \n",
    "![img](img/step-01.png)\n",
    "\n",
    "- Step 2: Get the guid you need.\n",
    "    - Get the guid (id) from the page\n",
    "\n",
    "![img](img/step-02.png)\n",
    "\n",
    "- Step 3: Insert the guid in your configuration (the ID from the page)\n",
    "```\n",
    "[Egress]\n",
    "url = https://dp-prod.westeurope.cloudapp.azure.com/osiris-egress/\n",
    "guid = 6c460d49-a450-48c2-82ff-08d9661b40e3\n",
    "```\n",
    "- Step 4: Get access to it\n",
    "    - Either by using Access Token (requires that you are granted access - ask Data Steward for access)\n",
    "\n",
    "<img src=\"img/step-04.png\" width=200>\n",
    "\n",
    "    - Or Service Principle (there is shared in the Data Enabled forum in Teams)\n",
    "        - The Service Principle will be added to the conf.ini file.\n",
    "\n",
    "```\n",
    "[Authorization]\n",
    "tenant_id = <tenant_id>\n",
    "client_id = <client_id>\n",
    "client_secret = <client_secret>\n",
    "\n",
    "[Egress]\n",
    "url = https://dp-prod.westeurope.cloudapp.azure.com/osiris-egress/\n",
    "guid = 6c460d49-a450-48c2-82ff-08d9661b40e3\n",
    "```\n",
    "\n",
    "- Step 5: Execute the code below."
   ]
  },
  {
   "cell_type": "code",
   "execution_count": null,
   "id": "278a0bc6",
   "metadata": {},
   "outputs": [],
   "source": [
    "import pandas as pd"
   ]
  },
  {
   "cell_type": "code",
   "execution_count": null,
   "id": "1c00103d",
   "metadata": {},
   "outputs": [],
   "source": [
    "json_response = egress.download_json_file(from_date='2019-02', \n",
    "                                          to_date='2019-03')\n",
    "\n",
    "df = pd.DataFrame(json_response)\n",
    "df.to_csv('data.csv', index=False)"
   ]
  },
  {
   "cell_type": "code",
   "execution_count": null,
   "id": "704563e3",
   "metadata": {},
   "outputs": [],
   "source": []
  }
 ],
 "metadata": {
  "kernelspec": {
   "display_name": "Python 3",
   "language": "python",
   "name": "python3"
  },
  "language_info": {
   "codemirror_mode": {
    "name": "ipython",
    "version": 3
   },
   "file_extension": ".py",
   "mimetype": "text/x-python",
   "name": "python",
   "nbconvert_exporter": "python",
   "pygments_lexer": "ipython3",
   "version": "3.8.8"
  }
 },
 "nbformat": 4,
 "nbformat_minor": 5
}
