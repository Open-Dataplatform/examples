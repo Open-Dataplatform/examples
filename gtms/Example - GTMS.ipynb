{
 "cells": [
  {
   "cell_type": "markdown",
   "id": "09693d97",
   "metadata": {},
   "source": [
    "# GTMS"
   ]
  },
  {
   "cell_type": "markdown",
   "id": "556fe3a2",
   "metadata": {},
   "source": [
    "### Installation\n",
    "Run the following cell to install osiris-sdk."
   ]
  },
  {
   "cell_type": "code",
   "execution_count": null,
   "id": "9ba147b2",
   "metadata": {},
   "outputs": [],
   "source": [
    "!pip install osiris-sdk"
   ]
  },
  {
   "cell_type": "markdown",
   "id": "eec22315",
   "metadata": {},
   "source": [
    "### Config file\n",
    "The configuration is advised to be done in a file.\n",
    "\n",
    "The structure of **conf.ini**:\n",
    "```\n",
    "[Authorization]\n",
    "tenant_id = <tenant_id>\n",
    "client_id = <client_id>\n",
    "client_secret = <client_secret>\n",
    "\n",
    "[Egress]\n",
    "url = <egress-url>\n",
    "guid = <dataset-guid>\n",
    "```"
   ]
  },
  {
   "cell_type": "markdown",
   "id": "c39481df",
   "metadata": {},
   "source": [
    "### Import libraries"
   ]
  },
  {
   "cell_type": "code",
   "execution_count": null,
   "id": "2e0dd593",
   "metadata": {},
   "outputs": [],
   "source": [
    "from osiris.apis.egress import Egress\n",
    "from osiris.core.azure_client_authorization import ClientAuthorization\n",
    "from configparser import ConfigParser"
   ]
  },
  {
   "cell_type": "markdown",
   "id": "9ac9c742",
   "metadata": {},
   "source": [
    "### Initialize Egress class"
   ]
  },
  {
   "cell_type": "code",
   "execution_count": null,
   "id": "1f44a246",
   "metadata": {},
   "outputs": [],
   "source": [
    "config = ConfigParser()\n",
    "config.read('conf.ini')\n",
    "\n",
    "client_auth = ClientAuthorization(tenant_id=config['Authorization']['tenant_id'],\n",
    "                                  client_id=config['Authorization']['client_id'],\n",
    "                                  client_secret=config['Authorization']['client_secret'])\n",
    "\n",
    "egress = Egress(client_auth=client_auth,\n",
    "                egress_url=config['Egress']['url'],\n",
    "                dataset_guid=config['Egress']['guid'])"
   ]
  },
  {
   "cell_type": "markdown",
   "id": "9c5f886b",
   "metadata": {},
   "source": [
    "### GTMS date range"
   ]
  },
  {
   "cell_type": "code",
   "execution_count": null,
   "id": "0615e9d0",
   "metadata": {},
   "outputs": [],
   "source": [
    "json_response = egress.download_json_file(from_date='2014', \n",
    "                                          to_date='2015')\n",
    "\n",
    "# We only show the first entry here\n",
    "json_response[0]"
   ]
  },
  {
   "cell_type": "markdown",
   "id": "649b08c2",
   "metadata": {},
   "source": [
    "### GTMS full dataset"
   ]
  },
  {
   "cell_type": "code",
   "execution_count": null,
   "id": "304ff07b",
   "metadata": {},
   "outputs": [],
   "source": [
    "json_response = egress.download_json_file()\n",
    "\n",
    "# We only show the first entry here\n",
    "json_response[0]"
   ]
  },
  {
   "cell_type": "code",
   "execution_count": null,
   "id": "f36be1c3",
   "metadata": {},
   "outputs": [],
   "source": []
  }
 ],
 "metadata": {
  "kernelspec": {
   "display_name": "Python 3",
   "language": "python",
   "name": "python3"
  },
  "language_info": {
   "codemirror_mode": {
    "name": "ipython",
    "version": 3
   },
   "file_extension": ".py",
   "mimetype": "text/x-python",
   "name": "python",
   "nbconvert_exporter": "python",
   "pygments_lexer": "ipython3",
   "version": "3.8.8"
  }
 },
 "nbformat": 4,
 "nbformat_minor": 5
}
