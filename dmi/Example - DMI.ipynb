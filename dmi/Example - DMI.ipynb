{
 "cells": [
  {
   "cell_type": "markdown",
   "id": "d7c4e62e",
   "metadata": {},
   "source": [
    "# DMI"
   ]
  },
  {
   "cell_type": "markdown",
   "id": "c730740f",
   "metadata": {},
   "source": [
    "### Installation\n",
    "Run the following cell to install osiris-sdk."
   ]
  },
  {
   "cell_type": "code",
   "execution_count": null,
   "id": "0718cea8",
   "metadata": {},
   "outputs": [],
   "source": [
    "!pip install osiris-sdk"
   ]
  },
  {
   "cell_type": "markdown",
   "id": "de3d4103",
   "metadata": {},
   "source": [
    "### Config file\n",
    "he configuration is advised to be done in a file.\n",
    "\n",
    "The structure of **conf.ini**:\n",
    "```\n",
    "[Authorization]\n",
    "tenant_id = <tenant_id>\n",
    "client_id = <client_id>\n",
    "client_secret = <client_secret>\n",
    "\n",
    "[Egress]\n",
    "url = <egress-url>\n",
    "```"
   ]
  },
  {
   "cell_type": "markdown",
   "id": "da788cbb",
   "metadata": {},
   "source": [
    "### Imports\n",
    "Execute the following cell to import the necessary libraries"
   ]
  },
  {
   "cell_type": "code",
   "execution_count": null,
   "id": "d13afa44",
   "metadata": {
    "scrolled": true
   },
   "outputs": [],
   "source": [
    "import pandas as pd\n",
    "from io import BytesIO\n",
    "from osiris.apis.egress import Egress\n",
    "from osiris.core.azure_client_authorization import ClientAuthorization\n",
    "from configparser import ConfigParser"
   ]
  },
  {
   "cell_type": "markdown",
   "id": "9f9ca764",
   "metadata": {},
   "source": [
    "### List all DMI stations for a given month\n",
    "To list all the available stations for a given month run the following code.\n",
    "\n",
    "Feel free to change the month using the format: YYYY-MM"
   ]
  },
  {
   "cell_type": "code",
   "execution_count": null,
   "id": "82dd61f9",
   "metadata": {},
   "outputs": [],
   "source": [
    "config = ConfigParser()\n",
    "config.read('conf.ini')\n",
    "\n",
    "client_auth = ClientAuthorization(tenant_id=config['Authorization']['tenant_id'],\n",
    "                                  client_id=config['Authorization']['client_id'],\n",
    "                                  client_secret=config['Authorization']['client_secret'])\n",
    "\n",
    "egress = Egress(client_auth=client_auth,\n",
    "                egress_url=config['Egress']['url'])\n",
    "\n",
    "# We restrict to only list the first 10 stations\n",
    "egress.download_dmi_list(from_date='2021-01')[:10]"
   ]
  },
  {
   "cell_type": "markdown",
   "id": "4e9c351b",
   "metadata": {},
   "source": [
    "### Download DMI data for a given station and time period\n",
    "To download the data for a given station (lon, lat) for a time period (from_date, to_date) execute the following cell.\n",
    "\n",
    "You can find the available values of **lon** and **lat** from the previous call."
   ]
  },
  {
   "cell_type": "code",
   "execution_count": null,
   "id": "a895985d",
   "metadata": {},
   "outputs": [],
   "source": [
    "parquet_content = egress.download_dmi_file(lon=15.19, \n",
    "                                           lat=55.00, \n",
    "                                           from_date='2021-01', \n",
    "                                           to_date='2021-03')\n",
    "\n",
    "data = pd.read_parquet(BytesIO(parquet_content))\n",
    "\n",
    "data.head()"
   ]
  },
  {
   "cell_type": "code",
   "execution_count": null,
   "id": "999af1b3",
   "metadata": {},
   "outputs": [],
   "source": []
  }
 ],
 "metadata": {
  "kernelspec": {
   "display_name": "Python 3",
   "language": "python",
   "name": "python3"
  },
  "language_info": {
   "codemirror_mode": {
    "name": "ipython",
    "version": 3
   },
   "file_extension": ".py",
   "mimetype": "text/x-python",
   "name": "python",
   "nbconvert_exporter": "python",
   "pygments_lexer": "ipython3",
   "version": "3.8.8"
  }
 },
 "nbformat": 4,
 "nbformat_minor": 5
}
