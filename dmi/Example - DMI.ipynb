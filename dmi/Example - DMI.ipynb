{
 "cells": [
  {
   "cell_type": "markdown",
   "id": "d7c4e62e",
   "metadata": {},
   "source": [
    "# DMI"
   ]
  },
  {
   "cell_type": "markdown",
   "id": "c730740f",
   "metadata": {},
   "source": [
    "### Installation\n",
    "Run the following cell to install osiris-sdk."
   ]
  },
  {
   "cell_type": "code",
   "execution_count": null,
   "id": "0718cea8",
   "metadata": {},
   "outputs": [],
   "source": [
    "!pip install osiris-sdk --upgrade"
   ]
  },
  {
   "cell_type": "markdown",
   "id": "de3d4103",
   "metadata": {},
   "source": [
    "### Access to dataset\n",
    "There are two ways to get access to a dataset\n",
    "1. Service Principle\n",
    "2. Access Token\n",
    "\n",
    "\n",
    "#### Config file with Service Principle\n",
    "If done with **Service Principle** it is adviced to add the following file with **tenant_id**, **client_id**, and **client_secret**:\n",
    "\n",
    "The structure of **conf.ini**:\n",
    "```\n",
    "[Authorization]\n",
    "tenant_id = <tenant_id>\n",
    "client_id = <client_id>\n",
    "client_secret = <client_secret>\n",
    "\n",
    "[Egress]\n",
    "url = <egress-url>\n",
    "```\n",
    "\n",
    "#### Config file if using Access Token\n",
    "If done with **Access Token** then assign it to a variable (see example below).\n",
    "\n",
    "The structure of **conf.ini**:\n",
    "```\n",
    "[Egress]\n",
    "url = <egress-url>\n",
    "```\n",
    "\n",
    "The egress-url can be [found here](https://github.com/Open-Dataplatform/examples/blob/main/README.md)."
   ]
  },
  {
   "cell_type": "markdown",
   "id": "da788cbb",
   "metadata": {},
   "source": [
    "### Imports\n",
    "Execute the following cell to import the necessary libraries"
   ]
  },
  {
   "cell_type": "code",
   "execution_count": 1,
   "id": "d13afa44",
   "metadata": {
    "scrolled": true
   },
   "outputs": [],
   "source": [
    "import pandas as pd\n",
    "from io import BytesIO\n",
    "from osiris.apis.egress import Egress\n",
    "from osiris.core.azure_client_authorization import ClientAuthorization\n",
    "from configparser import ConfigParser"
   ]
  },
  {
   "cell_type": "markdown",
   "id": "5a59fd59",
   "metadata": {},
   "source": [
    "### Initialize Egress with Service Principle"
   ]
  },
  {
   "cell_type": "code",
   "execution_count": null,
   "id": "1213ed2e",
   "metadata": {},
   "outputs": [],
   "source": [
    "config = ConfigParser()\n",
    "config.read('conf.ini')\n",
    "\n",
    "client_auth = ClientAuthorization(tenant_id=config['Authorization']['tenant_id'],\n",
    "                                  client_id=config['Authorization']['client_id'],\n",
    "                                  client_secret=config['Authorization']['client_secret'])\n",
    "\n",
    "egress = Egress(client_auth=client_auth,\n",
    "                egress_url=config['Egress']['url'])"
   ]
  },
  {
   "cell_type": "markdown",
   "id": "c3167cd6",
   "metadata": {},
   "source": [
    "### Intialize Egress with Access Token"
   ]
  },
  {
   "cell_type": "code",
   "execution_count": 4,
   "id": "b4224c99",
   "metadata": {},
   "outputs": [],
   "source": [
    "config = ConfigParser()\n",
    "config.read('conf.ini')\n",
    "\n",
    "access_token = 'REPLACE WITH ACCESS TOKEN HERE'\n",
    "\n",
    "client_auth = ClientAuthorization(access_token=access_token)\n",
    "\n",
    "egress = Egress(client_auth=client_auth,\n",
    "                egress_url=config['Egress']['url'])"
   ]
  },
  {
   "cell_type": "markdown",
   "id": "9f9ca764",
   "metadata": {},
   "source": [
    "### List all DMI stations for a given month\n",
    "To list all the available stations for a given month run the following code.\n",
    "\n",
    "Feel free to change the month using the format: YYYY-MM"
   ]
  },
  {
   "cell_type": "code",
   "execution_count": null,
   "id": "82dd61f9",
   "metadata": {},
   "outputs": [],
   "source": [
    "# We restrict to only list the first 10 stations\n",
    "egress.download_dmi_list(from_date='2021-01')[:10]"
   ]
  },
  {
   "cell_type": "markdown",
   "id": "4e9c351b",
   "metadata": {},
   "source": [
    "### Download DMI data for a given station and time period\n",
    "To download the data for a given station (lon, lat) for a time period (from_date, to_date) execute the following cell.\n",
    "\n",
    "You can find the available values of **lon** and **lat** from the previous call.\n",
    "\n",
    "The **from_date** and **to_date** syntax is [described here](https://github.com/Open-Dataplatform/examples/blob/main/README.md)."
   ]
  },
  {
   "cell_type": "code",
   "execution_count": null,
   "id": "a895985d",
   "metadata": {},
   "outputs": [],
   "source": [
    "parquet_content = egress.download_dmi_file(lon=15.19, \n",
    "                                           lat=55.00, \n",
    "                                           from_date='2021-01', \n",
    "                                           to_date='2021-03')\n",
    "\n",
    "data = pd.read_parquet(BytesIO(parquet_content))\n",
    "\n",
    "data.head()"
   ]
  },
  {
   "cell_type": "code",
   "execution_count": null,
   "id": "999af1b3",
   "metadata": {},
   "outputs": [],
   "source": [
    "data.dtypes"
   ]
  }
 ],
 "metadata": {
  "kernelspec": {
   "display_name": "Python 3 (ipykernel)",
   "language": "python",
   "name": "python3"
  },
  "language_info": {
   "codemirror_mode": {
    "name": "ipython",
    "version": 3
   },
   "file_extension": ".py",
   "mimetype": "text/x-python",
   "name": "python",
   "nbconvert_exporter": "python",
   "pygments_lexer": "ipython3",
   "version": "3.8.12"
  }
 },
 "nbformat": 4,
 "nbformat_minor": 5
}
