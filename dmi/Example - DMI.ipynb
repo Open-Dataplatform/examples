{
 "cells": [
  {
   "cell_type": "markdown",
   "id": "fc737e26",
   "metadata": {},
   "source": [
    "# DMI"
   ]
  },
  {
   "cell_type": "markdown",
   "id": "81bc561b",
   "metadata": {},
   "source": [
    "### Installation\n",
    "Run the following cell to install osiris-sdk."
   ]
  },
  {
   "cell_type": "code",
   "execution_count": null,
   "id": "202a84b5",
   "metadata": {},
   "outputs": [],
   "source": [
    "!pip install osiris-sdk"
   ]
  },
  {
   "cell_type": "markdown",
   "id": "20248d13",
   "metadata": {},
   "source": [
    "### Config file\n",
    "he configuration is advised to be done in a file.\n",
    "\n",
    "The structure of **conf.ini**:\n",
    "```\n",
    "[Authorization]\n",
    "tenant_id = <tenant_id>\n",
    "client_id = <client_id>\n",
    "client_secret = <client_secret>\n",
    "\n",
    "[Egress]\n",
    "url = <egress-url>\n",
    "```"
   ]
  },
  {
   "cell_type": "markdown",
   "id": "fb6c046f",
   "metadata": {},
   "source": [
    "### Imports\n",
    "Execute the following cell to import the necessary libraries"
   ]
  },
  {
   "cell_type": "code",
   "execution_count": 3,
   "id": "311ecbe6",
   "metadata": {
    "scrolled": true
   },
   "outputs": [],
   "source": [
    "import pandas as pd\n",
    "from io import BytesIO\n",
    "from osiris.apis.egress import Egress\n",
    "from osiris.core.azure_client_authorization import ClientAuthorization\n",
    "from configparser import ConfigParser"
   ]
  },
  {
   "cell_type": "markdown",
   "id": "020e23d4",
   "metadata": {},
   "source": [
    "### List all DMI stations for a given month\n",
    "To list all the available stations for a given month run the following code.\n",
    "\n",
    "Feel free to change the month using the format: YYYY-MM"
   ]
  },
  {
   "cell_type": "code",
   "execution_count": 8,
   "id": "75055db2",
   "metadata": {},
   "outputs": [
    {
     "data": {
      "text/plain": [
       "[{'lon': 15.19, 'lat': 55.0},\n",
       " {'lon': 15.28, 'lat': 55.14},\n",
       " {'lon': 14.85, 'lat': 54.92},\n",
       " {'lon': 14.94, 'lat': 55.06},\n",
       " {'lon': 15.03, 'lat': 55.19},\n",
       " {'lon': 14.61, 'lat': 54.97},\n",
       " {'lon': 14.7, 'lat': 55.11},\n",
       " {'lon': 14.79, 'lat': 55.25},\n",
       " {'lon': 14.27, 'lat': 54.89},\n",
       " {'lon': 14.36, 'lat': 55.03}]"
      ]
     },
     "execution_count": 8,
     "metadata": {},
     "output_type": "execute_result"
    }
   ],
   "source": [
    "config = ConfigParser()\n",
    "config.read('conf.ini')\n",
    "\n",
    "client_auth = ClientAuthorization(tenant_id=config['Authorization']['tenant_id'],\n",
    "                                  client_id=config['Authorization']['client_id'],\n",
    "                                  client_secret=config['Authorization']['client_secret'])\n",
    "\n",
    "egress = Egress(client_auth=client_auth,\n",
    "                egress_url=config['Egress']['url'])\n",
    "\n",
    "# We restrict to only list the first 10 stations\n",
    "egress.download_dmi_list('2021-01')[:10]"
   ]
  },
  {
   "cell_type": "markdown",
   "id": "abd64df5",
   "metadata": {},
   "source": [
    "### Download DMI data for a given station and time period\n",
    "To download the data for a given station (lon, lat) for a time period (from_date, to_date) execute the following cell.\n",
    "\n",
    "You can find the available values of **lon** and **lat** from the previous call."
   ]
  },
  {
   "cell_type": "code",
   "execution_count": 9,
   "id": "9b711dd7",
   "metadata": {},
   "outputs": [
    {
     "data": {
      "text/html": [
       "<div>\n",
       "<style scoped>\n",
       "    .dataframe tbody tr th:only-of-type {\n",
       "        vertical-align: middle;\n",
       "    }\n",
       "\n",
       "    .dataframe tbody tr th {\n",
       "        vertical-align: top;\n",
       "    }\n",
       "\n",
       "    .dataframe thead th {\n",
       "        text-align: right;\n",
       "    }\n",
       "</style>\n",
       "<table border=\"1\" class=\"dataframe\">\n",
       "  <thead>\n",
       "    <tr style=\"text-align: right;\">\n",
       "      <th></th>\n",
       "      <th>lon</th>\n",
       "      <th>lat</th>\n",
       "      <th>value</th>\n",
       "      <th>weather_type</th>\n",
       "      <th>model</th>\n",
       "      <th>predicted_ahead</th>\n",
       "      <th>Date</th>\n",
       "      <th>_dp_datetime_utc</th>\n",
       "    </tr>\n",
       "  </thead>\n",
       "  <tbody>\n",
       "    <tr>\n",
       "      <th>0</th>\n",
       "      <td>15.19</td>\n",
       "      <td>55.0</td>\n",
       "      <td>277.7</td>\n",
       "      <td>temperatur_2m</td>\n",
       "      <td>harmonie</td>\n",
       "      <td>0</td>\n",
       "      <td>2021-01-01 00:00:00+00:00</td>\n",
       "      <td>2021-01-01 00:00:00+00:00</td>\n",
       "    </tr>\n",
       "    <tr>\n",
       "      <th>1</th>\n",
       "      <td>15.19</td>\n",
       "      <td>55.0</td>\n",
       "      <td>277.5</td>\n",
       "      <td>temperatur_2m</td>\n",
       "      <td>harmonie</td>\n",
       "      <td>1</td>\n",
       "      <td>2021-01-01 01:00:00+00:00</td>\n",
       "      <td>2021-01-01 01:00:00+00:00</td>\n",
       "    </tr>\n",
       "    <tr>\n",
       "      <th>2</th>\n",
       "      <td>15.19</td>\n",
       "      <td>55.0</td>\n",
       "      <td>277.4</td>\n",
       "      <td>temperatur_2m</td>\n",
       "      <td>harmonie</td>\n",
       "      <td>2</td>\n",
       "      <td>2021-01-01 02:00:00+00:00</td>\n",
       "      <td>2021-01-01 02:00:00+00:00</td>\n",
       "    </tr>\n",
       "    <tr>\n",
       "      <th>3</th>\n",
       "      <td>15.19</td>\n",
       "      <td>55.0</td>\n",
       "      <td>277.1</td>\n",
       "      <td>temperatur_2m</td>\n",
       "      <td>harmonie</td>\n",
       "      <td>3</td>\n",
       "      <td>2021-01-01 03:00:00+00:00</td>\n",
       "      <td>2021-01-01 03:00:00+00:00</td>\n",
       "    </tr>\n",
       "    <tr>\n",
       "      <th>4</th>\n",
       "      <td>15.19</td>\n",
       "      <td>55.0</td>\n",
       "      <td>276.8</td>\n",
       "      <td>temperatur_2m</td>\n",
       "      <td>harmonie</td>\n",
       "      <td>4</td>\n",
       "      <td>2021-01-01 04:00:00+00:00</td>\n",
       "      <td>2021-01-01 04:00:00+00:00</td>\n",
       "    </tr>\n",
       "  </tbody>\n",
       "</table>\n",
       "</div>"
      ],
      "text/plain": [
       "     lon   lat  value   weather_type     model  predicted_ahead  \\\n",
       "0  15.19  55.0  277.7  temperatur_2m  harmonie                0   \n",
       "1  15.19  55.0  277.5  temperatur_2m  harmonie                1   \n",
       "2  15.19  55.0  277.4  temperatur_2m  harmonie                2   \n",
       "3  15.19  55.0  277.1  temperatur_2m  harmonie                3   \n",
       "4  15.19  55.0  276.8  temperatur_2m  harmonie                4   \n",
       "\n",
       "                       Date          _dp_datetime_utc  \n",
       "0 2021-01-01 00:00:00+00:00 2021-01-01 00:00:00+00:00  \n",
       "1 2021-01-01 01:00:00+00:00 2021-01-01 01:00:00+00:00  \n",
       "2 2021-01-01 02:00:00+00:00 2021-01-01 02:00:00+00:00  \n",
       "3 2021-01-01 03:00:00+00:00 2021-01-01 03:00:00+00:00  \n",
       "4 2021-01-01 04:00:00+00:00 2021-01-01 04:00:00+00:00  "
      ]
     },
     "execution_count": 9,
     "metadata": {},
     "output_type": "execute_result"
    }
   ],
   "source": [
    "parquet_content = egress.download_dmi_file(lon=15.19, \n",
    "                                           lat=55.00, \n",
    "                                           from_date='2021-01', \n",
    "                                           to_date='2021-03')\n",
    "\n",
    "data = pd.read_parquet(BytesIO(parquet_content))\n",
    "\n",
    "data.head()"
   ]
  },
  {
   "cell_type": "code",
   "execution_count": null,
   "id": "029521c9",
   "metadata": {},
   "outputs": [],
   "source": []
  }
 ],
 "metadata": {
  "kernelspec": {
   "display_name": "Python 3",
   "language": "python",
   "name": "python3"
  },
  "language_info": {
   "codemirror_mode": {
    "name": "ipython",
    "version": 3
   },
   "file_extension": ".py",
   "mimetype": "text/x-python",
   "name": "python",
   "nbconvert_exporter": "python",
   "pygments_lexer": "ipython3",
   "version": "3.8.8"
  }
 },
 "nbformat": 4,
 "nbformat_minor": 5
}
