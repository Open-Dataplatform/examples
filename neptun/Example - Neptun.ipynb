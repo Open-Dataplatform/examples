{
 "cells": [
  {
   "cell_type": "markdown",
   "id": "cf67fbc0",
   "metadata": {},
   "source": [
    "# Neptun"
   ]
  },
  {
   "cell_type": "markdown",
   "id": "8c31c90d",
   "metadata": {},
   "source": [
    "### Installation\n",
    "Run the following cell to install osiris-sdk."
   ]
  },
  {
   "cell_type": "code",
   "execution_count": null,
   "id": "fc99cfb9",
   "metadata": {},
   "outputs": [],
   "source": [
    "!pip install osiris-sdk --upgrade"
   ]
  },
  {
   "cell_type": "markdown",
   "id": "6af6d02f",
   "metadata": {},
   "source": [
    "### Access to dataset\n",
    "There are two ways to get access to a dataset\n",
    "1. Service Principle\n",
    "2. Access Token\n",
    "\n",
    "\n",
    "#### Config file with Service Principle\n",
    "If done with **Service Principle** it is adviced to add the following file with **tenant_id**, **client_id**, and **client_secret**:\n",
    "\n",
    "The structure of **conf.ini**:\n",
    "```\n",
    "[Authorization]\n",
    "tenant_id = <tenant_id>\n",
    "client_id = <client_id>\n",
    "client_secret = <client_secret>\n",
    "\n",
    "[Egress]\n",
    "url = <egress-url>\n",
    "```\n",
    "\n",
    "#### Config file if using Access Token\n",
    "If done with **Access Token** then assign it to a variable (see example below).\n",
    "\n",
    "The structure of **conf.ini**:\n",
    "```\n",
    "[Egress]\n",
    "url = <egress-url>\n",
    "```"
   ]
  },
  {
   "cell_type": "markdown",
   "id": "a24c18f5",
   "metadata": {},
   "source": [
    "### Imports\n",
    "Execute the following cell to import the necessary libraries"
   ]
  },
  {
   "cell_type": "code",
   "execution_count": null,
   "id": "fb3f21b6",
   "metadata": {},
   "outputs": [],
   "source": [
    "from osiris.apis.egress import Egress\n",
    "from osiris.core.azure_client_authorization import ClientAuthorization\n",
    "from osiris.core.enums import Horizon\n",
    "from configparser import ConfigParser"
   ]
  },
  {
   "cell_type": "markdown",
   "id": "638e6765",
   "metadata": {},
   "source": [
    "### Initialize Egress class with Service Principle"
   ]
  },
  {
   "cell_type": "code",
   "execution_count": null,
   "id": "ba1597e8",
   "metadata": {},
   "outputs": [],
   "source": [
    "config = ConfigParser()\n",
    "config.read('conf.ini')\n",
    "\n",
    "client_auth = ClientAuthorization(tenant_id=config['Authorization']['tenant_id'],\n",
    "                                  client_id=config['Authorization']['client_id'],\n",
    "                                  client_secret=config['Authorization']['client_secret'])\n",
    "\n",
    "egress = Egress(client_auth=client_auth,\n",
    "                egress_url=config['Egress']['url'])"
   ]
  },
  {
   "cell_type": "markdown",
   "id": "3d09c08b",
   "metadata": {},
   "source": [
    "### Intialize Egress class with Access Token"
   ]
  },
  {
   "cell_type": "code",
   "execution_count": null,
   "id": "4eaa4895",
   "metadata": {},
   "outputs": [],
   "source": [
    "config = ConfigParser()\n",
    "config.read('conf.ini')\n",
    "\n",
    "access_token = 'REPLACE WITH ACCESS TOKEN HERE'\n",
    "\n",
    "client_auth = ClientAuthorization(access_token=access_token)\n",
    "\n",
    "egress = Egress(client_auth=client_auth,\n",
    "                egress_url=config['Egress']['url'])"
   ]
  },
  {
   "cell_type": "markdown",
   "id": "87562f80",
   "metadata": {},
   "source": [
    "### Neptun Daily"
   ]
  },
  {
   "cell_type": "code",
   "execution_count": null,
   "id": "028c8fc7",
   "metadata": {},
   "outputs": [],
   "source": [
    "json_content = egress.download_neptun_file(horizon=Horizon.DAILY, \n",
    "                                           from_date=\"2020-01\", \n",
    "                                           to_date=\"2020-02\")\n",
    "\n",
    "# We only show the first entry here\n",
    "json_content[0]"
   ]
  },
  {
   "cell_type": "markdown",
   "id": "d4938577",
   "metadata": {},
   "source": [
    "### Neptun Hourly"
   ]
  },
  {
   "cell_type": "code",
   "execution_count": null,
   "id": "1e5b6b6b",
   "metadata": {},
   "outputs": [],
   "source": [
    "json_content = egress.download_neptun_file(horizon=Horizon.HOURLY, \n",
    "                                           from_date=\"2020-01-15T03:00\", \n",
    "                                           to_date=\"2020-01-15T03:01\")\n",
    "\n",
    "# We only show the first entry here\n",
    "json_content[0]"
   ]
  },
  {
   "cell_type": "markdown",
   "id": "bada554d",
   "metadata": {},
   "source": [
    "### Neptun Minutely"
   ]
  },
  {
   "cell_type": "code",
   "execution_count": null,
   "id": "eb401d57",
   "metadata": {},
   "outputs": [],
   "source": [
    "json_content = egress.download_neptun_file(horizon=Horizon.MINUTELY,\n",
    "                                           from_date=\"2020-01-15T03\", \n",
    "                                           to_date=\"2020-01-15T04\")\n",
    "\n",
    "# We only show the first entry here\n",
    "json_content[0]"
   ]
  },
  {
   "cell_type": "markdown",
   "id": "0282c152",
   "metadata": {},
   "source": [
    "### Neptun Daily with tags"
   ]
  },
  {
   "cell_type": "code",
   "execution_count": null,
   "id": "efc6dbd2",
   "metadata": {},
   "outputs": [],
   "source": [
    "json_content = egress.download_neptun_file(horizon=Horizon.DAILY, \n",
    "                                           from_date=\"2020-01-15T03:00\", \n",
    "                                           to_date=\"2020-01-16T03:01\",\n",
    "                                           tags=['MW00001', 'MW00002'])\n",
    "\n",
    "# We only show the first entry here\n",
    "json_content[0]"
   ]
  },
  {
   "cell_type": "code",
   "execution_count": null,
   "id": "4513b090",
   "metadata": {},
   "outputs": [],
   "source": []
  }
 ],
 "metadata": {
  "kernelspec": {
   "display_name": "Python 3",
   "language": "python",
   "name": "python3"
  },
  "language_info": {
   "codemirror_mode": {
    "name": "ipython",
    "version": 3
   },
   "file_extension": ".py",
   "mimetype": "text/x-python",
   "name": "python",
   "nbconvert_exporter": "python",
   "pygments_lexer": "ipython3",
   "version": "3.8.8"
  }
 },
 "nbformat": 4,
 "nbformat_minor": 5
}
