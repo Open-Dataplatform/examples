{
 "cells": [
  {
   "cell_type": "markdown",
   "id": "2038d701",
   "metadata": {},
   "source": [
    "# JAO"
   ]
  },
  {
   "cell_type": "markdown",
   "id": "f3c0ff14",
   "metadata": {},
   "source": [
    "### Installation\n",
    "Run the following cell to install osiris-sdk."
   ]
  },
  {
   "cell_type": "code",
   "execution_count": null,
   "id": "84f4e958",
   "metadata": {},
   "outputs": [],
   "source": [
    "!pip install osiris-sdk --upgrade"
   ]
  },
  {
   "cell_type": "markdown",
   "id": "f02ce235",
   "metadata": {},
   "source": [
    "### Access to dataset\n",
    "There are two ways to get access to a dataset\n",
    "1. Service Principle\n",
    "2. Access Token\n",
    "\n",
    "\n",
    "#### Config file with Service Principle\n",
    "If done with **Service Principle** it is adviced to add the following file with **tenant_id**, **client_id**, and **client_secret**:\n",
    "\n",
    "The structure of **conf.ini**:\n",
    "```\n",
    "[Authorization]\n",
    "tenant_id = <tenant_id>\n",
    "client_id = <client_id>\n",
    "client_secret = <client_secret>\n",
    "\n",
    "[Egress]\n",
    "url = <egress-url>\n",
    "```\n",
    "\n",
    "#### Config file if using Access Token\n",
    "If done with **Access Token** then assign it to a variable (see example below).\n",
    "\n",
    "The structure of **conf.ini**:\n",
    "```\n",
    "[Egress]\n",
    "url = <egress-url>\n",
    "```\n",
    "\n",
    "The egress-url can be [found here](https://github.com/Open-Dataplatform/examples/blob/main/README.md)."
   ]
  },
  {
   "cell_type": "markdown",
   "id": "7bfb62aa",
   "metadata": {},
   "source": [
    "### Imports\n",
    "Execute the following cell to import the necessary libraries"
   ]
  },
  {
   "cell_type": "code",
   "execution_count": null,
   "id": "80f57c4f",
   "metadata": {},
   "outputs": [],
   "source": [
    "from osiris.apis.egress import Egress\n",
    "from osiris.core.azure_client_authorization import ClientAuthorization\n",
    "from osiris.core.enums import Horizon\n",
    "from configparser import ConfigParser"
   ]
  },
  {
   "cell_type": "markdown",
   "id": "44cf7451",
   "metadata": {},
   "source": [
    "### Initialize Egress class with Service Principle"
   ]
  },
  {
   "cell_type": "code",
   "execution_count": null,
   "id": "f1568abe",
   "metadata": {},
   "outputs": [],
   "source": [
    "config = ConfigParser()\n",
    "config.read('conf.ini')\n",
    "\n",
    "client_auth = ClientAuthorization(tenant_id=config['Authorization']['tenant_id'],\n",
    "                                  client_id=config['Authorization']['client_id'],\n",
    "                                  client_secret=config['Authorization']['client_secret'])\n",
    "\n",
    "egress = Egress(client_auth=client_auth,\n",
    "                egress_url=config['Egress']['url'])"
   ]
  },
  {
   "cell_type": "markdown",
   "id": "58c80705",
   "metadata": {},
   "source": [
    "### Intialize Egress class with Access Token"
   ]
  },
  {
   "cell_type": "code",
   "execution_count": null,
   "id": "5b7ca44a",
   "metadata": {},
   "outputs": [],
   "source": [
    "config = ConfigParser()\n",
    "config.read('conf.ini')\n",
    "\n",
    "access_token = 'REPLACE WITH ACCESS TOKEN HERE'\n",
    "\n",
    "client_auth = ClientAuthorization(access_token=access_token)\n",
    "\n",
    "egress = Egress(client_auth=client_auth,\n",
    "                egress_url=config['Egress']['url'])"
   ]
  },
  {
   "cell_type": "markdown",
   "id": "d9b4aa59",
   "metadata": {},
   "source": [
    "### JAO monthly\n",
    "The **from_date** and **to_date** syntax is [described here](https://github.com/Open-Dataplatform/examples/blob/main/README.md)."
   ]
  },
  {
   "cell_type": "code",
   "execution_count": null,
   "id": "db8ec554",
   "metadata": {},
   "outputs": [],
   "source": [
    "json_content = egress.download_jao_file(horizon=Horizon.MONTHLY, \n",
    "                                        from_date=\"2020-01\", \n",
    "                                        to_date=\"2020-02\")\n",
    "\n",
    "# We only show the first entry here\n",
    "json_content[0]"
   ]
  },
  {
   "cell_type": "markdown",
   "id": "76b581b4",
   "metadata": {},
   "source": [
    "### JAO Yearly\n",
    "The **from_date** and **to_date** syntax is [described here](https://github.com/Open-Dataplatform/examples/blob/main/README.md)."
   ]
  },
  {
   "cell_type": "code",
   "execution_count": null,
   "id": "8a7432c8",
   "metadata": {},
   "outputs": [],
   "source": [
    "json_content = egress.download_jao_file(horizon=Horizon.YEARLY, \n",
    "                                        from_date=\"2020\", \n",
    "                                        to_date=\"2021\")\n",
    "\n",
    "# We only show the first entry here\n",
    "json_content[0]"
   ]
  },
  {
   "cell_type": "code",
   "execution_count": null,
   "id": "7095bea9",
   "metadata": {},
   "outputs": [],
   "source": []
  }
 ],
 "metadata": {
  "kernelspec": {
   "display_name": "Python 3",
   "language": "python",
   "name": "python3"
  },
  "language_info": {
   "codemirror_mode": {
    "name": "ipython",
    "version": 3
   },
   "file_extension": ".py",
   "mimetype": "text/x-python",
   "name": "python",
   "nbconvert_exporter": "python",
   "pygments_lexer": "ipython3",
   "version": "3.8.8"
  }
 },
 "nbformat": 4,
 "nbformat_minor": 5
}
